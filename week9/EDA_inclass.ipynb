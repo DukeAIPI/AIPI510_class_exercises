{
 "cells": [
  {
   "cell_type": "markdown",
   "metadata": {},
   "source": [
    "# Visual & Statistical Analytics In-class Exercise"
   ]
  },
  {
   "cell_type": "code",
   "execution_count": null,
   "metadata": {},
   "outputs": [],
   "source": [
    "import numpy as np\n",
    "import pandas as pd\n",
    "import matplotlib.pyplot as plt\n",
    "import seaborn as sns\n",
    "from scipy.stats import pearsonr\n",
    "from sklearn.linear_model import LinearRegression\n",
    "import statsmodels.api as sm\n",
    "from statsmodels.formula.api import ols\n",
    "from scipy.stats import ttest_ind\n",
    "\n",
    "import warnings\n",
    "warnings.filterwarnings(\"ignore\")"
   ]
  },
  {
   "cell_type": "markdown",
   "metadata": {},
   "source": [
    "The file n90pol.csv contains information on 90 university students who participated in a psychological experiment designed to look for relationships between the size of different regions of the brain and political views. The variables amygdala and acc indicate the volume of two particular brain regions known to be involved in emotions and decision-making, the amygdala and the anterior cingulate cortex; more exactly, these are residuals from the predicted volume, after adjusting for height, sex, and similar body-type variables. The variable orientation gives the students' political orientation on a five-point scale from 1 (very conservative) to 5 (very liberal)."
   ]
  },
  {
   "cell_type": "code",
   "execution_count": null,
   "metadata": {},
   "outputs": [],
   "source": [
    "# Run this before any other code cell\n",
    "# This downloads the csv data files into the same directory where you have saved this notebook\n",
    "\n",
    "import urllib.request\n",
    "from pathlib import Path\n",
    "import os\n",
    "path = Path()\n",
    "\n",
    "# Dictionary of file names and download links\n",
    "files = {'n90pol.csv':'https://storage.googleapis.com/aipi_datasets/n90pol.csv'}\n",
    "\n",
    "# Download each file\n",
    "for key,value in files.items():\n",
    "    filename = path/key\n",
    "    url = value\n",
    "    # If the file does not already exist in the directory, download it\n",
    "    if not os.path.exists(filename):\n",
    "        urllib.request.urlretrieve(url,filename)"
   ]
  },
  {
   "cell_type": "code",
   "execution_count": null,
   "metadata": {},
   "outputs": [],
   "source": [
    "student_data = pd.read_csv('n90pol.csv')\n",
    "student_data.head()"
   ]
  },
  {
   "cell_type": "markdown",
   "metadata": {},
   "source": [
    "### Explore features (amygdala and acc)"
   ]
  },
  {
   "cell_type": "code",
   "execution_count": null,
   "metadata": {},
   "outputs": [],
   "source": [
    "# View histogram of each feature amygdala and acc\n",
    "fig,ax = plt.subplots(2,2,figsize=(15,10))\n",
    "ax[0,0].hist(student_data['amygdala'],bins=5)\n",
    "ax[0,0].set_title('amygdala, bins=5')\n",
    "ax[0,1].hist(student_data['acc'],bins=5)\n",
    "ax[0,1].set_title('acc, bins=5')\n",
    "ax[1,0].hist(student_data['amygdala'],bins=20)\n",
    "ax[1,0].set_title('amygdala, bins=20')\n",
    "ax[1,1].hist(student_data['acc'],bins=20)\n",
    "ax[1,1].set_title('acc, bins=20')\n",
    "plt.show()"
   ]
  },
  {
   "cell_type": "code",
   "execution_count": null,
   "metadata": {},
   "outputs": [],
   "source": [
    "# View KDE plot of amygdala and acc\n",
    "fig,ax = plt.subplots(1,2,figsize=(15,6))\n",
    "for i,col in enumerate(['amygdala','acc']):\n",
    "    sns.kdeplot(student_data[col],bw=None,ax=ax[i])\n",
    "    ax[i].set_title(col)\n",
    "plt.show()"
   ]
  },
  {
   "cell_type": "code",
   "execution_count": null,
   "metadata": {},
   "outputs": [],
   "source": [
    "# Show scatterplot and histograms for the two variables using seaborn\n",
    "sns.jointplot(x='amygdala',y='acc',data=student_data, kind='scatter')\n",
    "plt.show()"
   ]
  },
  {
   "cell_type": "markdown",
   "metadata": {},
   "source": [
    "### Explore response (orientation)"
   ]
  },
  {
   "cell_type": "code",
   "execution_count": null,
   "metadata": {},
   "outputs": [],
   "source": [
    "# Bar chart of counts for each orientation\n",
    "student_data['orientation'].value_counts().sort_index().plot(kind='bar')\n",
    "plt.show()"
   ]
  },
  {
   "cell_type": "markdown",
   "metadata": {},
   "source": [
    "### Explore relationship between features and response"
   ]
  },
  {
   "cell_type": "code",
   "execution_count": null,
   "metadata": {},
   "outputs": [],
   "source": [
    "# Plot conditional distribution of volume of amygdala conditioned on orientation\n",
    "# Use the auto-set bandwidth\n",
    "fig,ax = plt.subplots(1,2,figsize=(15,6))\n",
    "for i,col in enumerate(['amygdala','acc']):\n",
    "    sns.kdeplot(student_data.loc[student_data.orientation==1,col],ax=ax[i])\n",
    "    sns.kdeplot(student_data.loc[student_data.orientation==2,col],ax=ax[i])\n",
    "    sns.kdeplot(student_data.loc[student_data.orientation==3,col],ax=ax[i])\n",
    "    sns.kdeplot(student_data.loc[student_data.orientation==4,col],ax=ax[i])\n",
    "    sns.kdeplot(student_data.loc[student_data.orientation==5,col],ax=ax[i])\n",
    "    ax[i].legend(labels=['Orientation 2','Orientation 3','Orientation 4','Orientation 5'])\n",
    "    ax[i].set_title('pdf of {}'.format(col))\n",
    "plt.show()"
   ]
  },
  {
   "cell_type": "markdown",
   "metadata": {},
   "source": [
    "## Part 1\n",
    "Create boxplots of amygdala and acc, grouped by orientation.  Observe the difference in distributions of amygdala and acc for each orientation."
   ]
  },
  {
   "cell_type": "code",
   "execution_count": null,
   "metadata": {},
   "outputs": [],
   "source": [
    "### BEGIN SOLUTION ###\n",
    "\n",
    "\n",
    "### END SOLUTION ###"
   ]
  },
  {
   "cell_type": "markdown",
   "metadata": {},
   "source": [
    "## Part 2\n",
    "For both amygdala and acc, perform an ANOVA analysis on each to see if there is a statistically significant difference in the means of any of the orientations at an alpha = 0.05."
   ]
  },
  {
   "cell_type": "code",
   "execution_count": null,
   "metadata": {},
   "outputs": [],
   "source": [
    "### BEGIN SOLUTION ###\n",
    "\n",
    "### END SOLUTION ###"
   ]
  },
  {
   "cell_type": "markdown",
   "metadata": {},
   "source": [
    "## Part 3\n",
    "Let's now determine whether there is a statistically significant difference in the mean amygdala and acc values between orientations 2 and 5.  Perform a t-test to determine if any difference in mean values is significant at an alpha = 0.05"
   ]
  },
  {
   "cell_type": "code",
   "execution_count": null,
   "metadata": {},
   "outputs": [],
   "source": [
    "### BEGIN SOLUTION ###\n",
    "\n",
    "### END SOLUTION ###"
   ]
  }
 ],
 "metadata": {
  "kernelspec": {
   "display_name": "Python 3",
   "language": "python",
   "name": "python3"
  },
  "language_info": {
   "codemirror_mode": {
    "name": "ipython",
    "version": 3
   },
   "file_extension": ".py",
   "mimetype": "text/x-python",
   "name": "python",
   "nbconvert_exporter": "python",
   "pygments_lexer": "ipython3",
   "version": "3.7.10"
  }
 },
 "nbformat": 4,
 "nbformat_minor": 4
}
